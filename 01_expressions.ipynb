{
  "nbformat": 4,
  "nbformat_minor": 0,
  "metadata": {
    "colab": {
      "provenance": [],
      "authorship_tag": "ABX9TyOml1Zmg5qs2xn8VHFCMenL",
      "include_colab_link": true
    },
    "kernelspec": {
      "name": "python3",
      "display_name": "Python 3"
    },
    "language_info": {
      "name": "python"
    }
  },
  "cells": [
    {
      "cell_type": "markdown",
      "metadata": {
        "id": "view-in-github",
        "colab_type": "text"
      },
      "source": [
        "<a href=\"https://colab.research.google.com/github/eraj-ns/Assigment-4/blob/main/01_expressions.ipynb\" target=\"_parent\"><img src=\"https://colab.research.google.com/assets/colab-badge.svg\" alt=\"Open In Colab\"/></a>"
      ]
    },
    {
      "cell_type": "code",
      "execution_count": null,
      "metadata": {
        "id": "XbXB6Q3O-sn9",
        "colab": {
          "base_uri": "https://localhost:8080/"
        },
        "outputId": "9ec3ac4c-a91c-4eaa-a228-028e27f88f94"
      },
      "outputs": [
        {
          "output_type": "stream",
          "name": "stdout",
          "text": [
            "01_dicesimulator\n",
            "die1 in main() start as :10\n",
            "Total of two dies: 9\n",
            "Total of two dies: 7\n",
            "Total of two dies: 8\n",
            "die1 in main() is: 10\n"
          ]
        }
      ],
      "source": [
        "import random\n",
        "print(\"01_dicesimulator\")\n",
        "\n",
        "def roll_dice():\n",
        "  die1:int = random.randint(1,6)\n",
        "  die2:int = random.randint(1,6)\n",
        "  total:int = die1 + die2\n",
        "  print(f'Total of two dies: {total}')\n",
        "\n",
        "def main():\n",
        "  die1:int = 10\n",
        "  print(\"die1 in main() start as :\" + str(die1))\n",
        "  roll_dice()\n",
        "  roll_dice()\n",
        "  roll_dice()\n",
        "  print(\"die1 in main() is: \" + str(die1))\n",
        "\n",
        "if __name__ == \"__main__\":\n",
        "  main()"
      ]
    },
    {
      "cell_type": "code",
      "source": [
        "print(\"02_e=mc2\")\n",
        "\n",
        "def energy():\n",
        "  c:float = 299792458\n",
        "  m:float = float(input(\"Enter kilos of mass: \"))\n",
        "  print(\"e = m*c^2\")\n",
        "  print(\"Mass = \" + str(m) + \" kg\")\n",
        "  print(\"C = \" + str(c) + \" m/s\")\n",
        "  print(\"e = \" + str(m * c ** 2) + \" jules\")\n",
        "\n",
        "if __name__ == \"__main__\":\n",
        "  energy()\n"
      ],
      "metadata": {
        "id": "AHDlaoPlMmS4",
        "colab": {
          "base_uri": "https://localhost:8080/"
        },
        "outputId": "ea8eed50-9541-4d85-c1fd-d814cb532f1d"
      },
      "execution_count": null,
      "outputs": [
        {
          "output_type": "stream",
          "name": "stdout",
          "text": [
            "02_e=mc2\n",
            "Enter kilos of mass: 200\n",
            "e = m*c^2\n",
            "Mass = 200.0 kg\n",
            "C = 299792458 m/s\n",
            "e = 1.7975103574736351e+19 jules\n"
          ]
        }
      ]
    },
    {
      "cell_type": "code",
      "source": [
        "print(\"03_feet_to_inches\")\n",
        "\n",
        "inch: int = 12\n",
        "\n",
        "def foot():\n",
        "  feet:int = int(input(\"Enter feet and i will convert into inches. \"))\n",
        "  print(f'There are {inch * feet} inches in {feet} feet. ')\n",
        "\n",
        "if __name__== \"__main__\":\n",
        "  foot()"
      ],
      "metadata": {
        "colab": {
          "base_uri": "https://localhost:8080/"
        },
        "id": "IO2TcSriNrWh",
        "outputId": "67d05111-edb6-423d-ebe0-c0d9d973bcd9"
      },
      "execution_count": null,
      "outputs": [
        {
          "output_type": "stream",
          "name": "stdout",
          "text": [
            "03_feet_to_inches\n",
            "Enter feet and i will convert into inches. 55\n",
            "There are 660 inches in 55 feet. \n"
          ]
        }
      ]
    },
    {
      "cell_type": "code",
      "source": [
        "import math\n",
        "print(\"04_pythagorean_theorem\")\n",
        "\n",
        "def tri():\n",
        "  ab:float = float(input(\"Enter the length of the side ab \"))\n",
        "  ac:float = float(input(\"Enter the length of the side ac \"))\n",
        "  bc:float = math.sqrt(ab**2 + ac**2)\n",
        "  print(f'The length of bc (the hypotenuse is : {bc})')\n",
        "\n",
        "if __name__ == \"__main__\":\n",
        "  tri()"
      ],
      "metadata": {
        "id": "rCeDwbMiQYUb",
        "colab": {
          "base_uri": "https://localhost:8080/"
        },
        "outputId": "d7ee29fd-436b-4a97-a427-e60105bdc930"
      },
      "execution_count": null,
      "outputs": [
        {
          "output_type": "stream",
          "name": "stdout",
          "text": [
            "04_pythagorean_theorem\n",
            "Enter the length of the side ab 6.2\n",
            "Enter the length of the side ac 8.4\n",
            "The length of bc (the hypotenuse is : 10.44030650891055)\n"
          ]
        }
      ]
    },
    {
      "cell_type": "code",
      "source": [
        "print(\"05_remainder_division\")\n",
        "\n",
        "def remin():\n",
        "  num1:int = int(input(\"Enter an integer to be divided: \"))\n",
        "  num2:int = int(input(\"Enter an integer to divide by: \"))\n",
        "  quotient:int = num1 // num2\n",
        "  remainder:int = num1 % num2\n",
        "  print('the result of this division is ' +str(quotient) + ' with a remainder of ' +str(remainder))\n",
        "\n",
        "if __name__ == \"__main__\":\n",
        "  remin()"
      ],
      "metadata": {
        "id": "RmRMSa-RUUZA",
        "colab": {
          "base_uri": "https://localhost:8080/"
        },
        "outputId": "8e74f543-ed04-4835-f5c4-aecc2df55408"
      },
      "execution_count": null,
      "outputs": [
        {
          "output_type": "stream",
          "name": "stdout",
          "text": [
            "05_remainder_division\n",
            "Enter an integer to be divided: 64\n",
            "Enter an integer to divide by: 5\n",
            "the result of this division is 12 with a remainder of 4\n"
          ]
        }
      ]
    },
    {
      "cell_type": "code",
      "source": [
        "import random\n",
        "print(\"06_rolldice\")\n",
        "\n",
        "def dic():\n",
        "  die1:int = random.randint(1,6)\n",
        "  die2:int = random.randint(1,6)\n",
        "  total:int = int (die1 + die2)\n",
        "  print(\"First die:\" + str(die1))\n",
        "  print(\"Second die:\" + str(die2))\n",
        "  print(f'Total of two dies : {total}' )\n",
        "\n",
        "if __name__ == \"__main__\":\n",
        "  dic()"
      ],
      "metadata": {
        "id": "daRySi1hI6At",
        "colab": {
          "base_uri": "https://localhost:8080/"
        },
        "outputId": "465bf7f3-816f-4c6b-fdee-1d8304a4453a"
      },
      "execution_count": null,
      "outputs": [
        {
          "output_type": "stream",
          "name": "stdout",
          "text": [
            "06_rolldice\n",
            "First die:6\n",
            "Second die:5\n",
            "Total of two dies : 11\n"
          ]
        }
      ]
    },
    {
      "cell_type": "code",
      "source": [
        "print(\"06_seconds_in_year\")\n",
        "\n",
        "days_in_year:int = 365\n",
        "hours_per_day:int = 24\n",
        "minutes_per_hour:int = 60\n",
        "seconds_per_minute:int = 60\n",
        "\n",
        "def seconds():\n",
        "  print(f'There are {days_in_year * hours_per_day * minutes_per_hour * seconds_per_minute} seconds in a year')\n",
        "\n",
        "if __name__ == \"__main__\":\n",
        "  seconds()"
      ],
      "metadata": {
        "id": "iSxNn5XCMIMu",
        "colab": {
          "base_uri": "https://localhost:8080/"
        },
        "outputId": "af709605-a668-40fe-c0e8-b7b3878cb2a7"
      },
      "execution_count": null,
      "outputs": [
        {
          "output_type": "stream",
          "name": "stdout",
          "text": [
            "06_seconds_in_year\n",
            "There are 31536000 seconds in a year\n"
          ]
        }
      ]
    },
    {
      "cell_type": "code",
      "source": [
        "print(\"07_tiny_mad_lib\")\n",
        "\n",
        "def lib():\n",
        "  noun:str = str (input(\"Enter a noun: \"))\n",
        "  adjective:str = str (input(\"Enter an adjective: \"))\n",
        "  verb:str = str (input(\"Enter a verb: \"))\n",
        "  print(f'Do you {verb} your {adjective} {noun}')\n",
        "\n",
        "if __name__ == \"__main__\":\n",
        "  lib()"
      ],
      "metadata": {
        "id": "eTCIvIJtYnfT",
        "colab": {
          "base_uri": "https://localhost:8080/"
        },
        "outputId": "39ad7270-3f08-4759-f3f7-ec7c79203787"
      },
      "execution_count": 2,
      "outputs": [
        {
          "output_type": "stream",
          "name": "stdout",
          "text": [
            "07_tiny_mad_lib\n",
            "Enter a noun: dog\n",
            "Enter an adjective: cute\n",
            "Enter a verb: playing\n",
            "Do you playing your cute dog\n"
          ]
        }
      ]
    }
  ]
}