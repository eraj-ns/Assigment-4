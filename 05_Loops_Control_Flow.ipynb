{
  "cells": [
    {
      "cell_type": "markdown",
      "metadata": {
        "id": "view-in-github",
        "colab_type": "text"
      },
      "source": [
        "<a href=\"https://colab.research.google.com/github/eraj-ns/Assigment-4/blob/main/05_Loops_Control_Flow.ipynb\" target=\"_parent\"><img src=\"https://colab.research.google.com/assets/colab-badge.svg\" alt=\"Open In Colab\"/></a>"
      ]
    },
    {
      "cell_type": "code",
      "source": [
        "print(\"00_guess_my_number\")\n",
        "\n",
        "import random\n",
        "\n",
        "def main():\n",
        "    secret_number = random.randint(0, 99)\n",
        "    print(\"I am thinking of a number between 0 and 99...\")\n",
        "\n",
        "    while True:\n",
        "        try:\n",
        "            guess = int(input(\"Enter a guess: \"))\n",
        "            if guess < secret_number:\n",
        "                print(\"Your guess is too low\")\n",
        "            elif guess > secret_number:\n",
        "                print(\"Your guess is too high\")\n",
        "            else:\n",
        "                print(f\"Congrats! The number was: {secret_number}\")\n",
        "                break\n",
        "        except ValueError:\n",
        "            print(\"Please enter a valid number!\")\n",
        "\n",
        "if __name__ == '__main__':\n",
        "    main()"
      ],
      "metadata": {
        "colab": {
          "base_uri": "https://localhost:8080/"
        },
        "id": "Y0GbyoBqshvv",
        "outputId": "4f54f7a7-c6bd-420e-83cd-27edb22c0472"
      },
      "execution_count": 13,
      "outputs": [
        {
          "output_type": "stream",
          "name": "stdout",
          "text": [
            "00_guess_my_number\n",
            "I am thinking of a number between 0 and 99...\n",
            "Enter a guess: 67\n",
            "Your guess is too high\n",
            "Enter a guess: 66\n",
            "Your guess is too high\n",
            "Enter a guess: 65\n",
            "Your guess is too high\n",
            "Enter a guess: 64\n",
            "Your guess is too high\n",
            "Enter a guess: 60\n",
            "Your guess is too high\n",
            "Enter a guess: 50\n",
            "Your guess is too high\n",
            "Enter a guess: 23\n",
            "Your guess is too high\n",
            "Enter a guess: 13\n",
            "Your guess is too low\n",
            "Enter a guess: 15\n",
            "Your guess is too low\n",
            "Enter a guess: 17\n",
            "Your guess is too low\n",
            "Enter a guess: 20\n",
            "Your guess is too low\n",
            "Enter a guess: 22\n",
            "Your guess is too high\n",
            "Enter a guess: 21\n",
            "Congrats! The number was: 21\n"
          ]
        }
      ]
    },
    {
      "cell_type": "code",
      "source": [
        "print(\"01_fibonacci\")\n",
        "\n",
        "def main():\n",
        "    MAX_VALUE = 10000\n",
        "\n",
        "    a, b = 0, 1\n",
        "\n",
        "    while a < MAX_VALUE:\n",
        "        print(a, end=\" \")\n",
        "        a, b = b, a + b\n",
        "\n",
        "if __name__ == '__main__':\n",
        "    main()"
      ],
      "metadata": {
        "colab": {
          "base_uri": "https://localhost:8080/"
        },
        "id": "Qa_okeYgzh6z",
        "outputId": "204f5fa4-5ef3-48a2-a5c5-81c965611f9f"
      },
      "execution_count": 14,
      "outputs": [
        {
          "output_type": "stream",
          "name": "stdout",
          "text": [
            "01_fibonacci\n",
            "0 1 1 2 3 5 8 13 21 34 55 89 144 233 377 610 987 1597 2584 4181 6765 "
          ]
        }
      ]
    },
    {
      "cell_type": "code",
      "source": [
        "print(\"02_print_events\")\n",
        "\n",
        "def main():\n",
        "    count = 20\n",
        "\n",
        "    for i in range(count):\n",
        "        print(i * 2, end=\" \")\n",
        "\n",
        "if __name__ == '__main__':\n",
        "    main()"
      ],
      "metadata": {
        "colab": {
          "base_uri": "https://localhost:8080/"
        },
        "id": "VXND1YG6z4Qe",
        "outputId": "ce251a03-6503-4f8c-a6f5-d09886ea9072"
      },
      "execution_count": 15,
      "outputs": [
        {
          "output_type": "stream",
          "name": "stdout",
          "text": [
            "02_print_events\n",
            "0 2 4 6 8 10 12 14 16 18 20 22 24 26 28 30 32 34 36 38 "
          ]
        }
      ]
    },
    {
      "cell_type": "code",
      "source": [
        "print(\"03_wholesome_machine\")\n",
        "\n",
        "def main():\n",
        "    affirmation = \"I am capable of doing anything I put my mind to.\"\n",
        "    print(f\"Please type the following affirmation: {affirmation}\")\n",
        "\n",
        "    while True:\n",
        "        user_input = input(\"\\033[34m\")\n",
        "        print(\"\\033[0m\", end=\"\")\n",
        "        if user_input == affirmation:\n",
        "            print(\"That's right! :)\")\n",
        "            break\n",
        "        else:\n",
        "            print(\"Hmmm That was not the affirmation. Please type the following affirmation:\", affirmation)\n",
        "\n",
        "if __name__ == '__main__':\n",
        "    main()"
      ],
      "metadata": {
        "colab": {
          "base_uri": "https://localhost:8080/"
        },
        "id": "k3nhftnY0C9t",
        "outputId": "9926fcdb-5cdf-438d-d737-b0e78480bb21"
      },
      "execution_count": 16,
      "outputs": [
        {
          "output_type": "stream",
          "name": "stdout",
          "text": [
            "03_wholesome_machine\n",
            "Please type the following affirmation: I am capable of doing anything I put my mind to.\n",
            "\u001b[34mtype\n",
            "\u001b[0mHmmm That was not the affirmation. Please type the following affirmation: I am capable of doing anything I put my mind to.\n",
            "\u001b[34mI am capable of doing anything I put my mind to\n",
            "\u001b[0mHmmm That was not the affirmation. Please type the following affirmation: I am capable of doing anything I put my mind to.\n",
            "\u001b[34mI am capable of doing anything I put my mind to.\n",
            "\u001b[0mThat's right! :)\n"
          ]
        }
      ]
    },
    {
      "cell_type": "code",
      "source": [
        "print(\"04_liftoff\")\n",
        "\n",
        "def main():\n",
        "    for i in range(10, 0, -1):\n",
        "        print(i, end=\" \")\n",
        "    print(\"Liftoff!\")\n",
        "\n",
        "if __name__ == '__main__':\n",
        "    main()"
      ],
      "metadata": {
        "colab": {
          "base_uri": "https://localhost:8080/"
        },
        "id": "UNCfi7Tp3FhM",
        "outputId": "af3acc33-0c34-4248-8f93-66e08a9d6a95"
      },
      "execution_count": 17,
      "outputs": [
        {
          "output_type": "stream",
          "name": "stdout",
          "text": [
            "04_liftoff\n",
            "10 9 8 7 6 5 4 3 2 1 Liftoff!\n"
          ]
        }
      ]
    },
    {
      "cell_type": "code",
      "source": [
        "print(\"05_double_it\")\n",
        "\n",
        "def main():\n",
        "    curr_value = int(input(\"Enter a number: \"))\n",
        "\n",
        "    while curr_value < 100:\n",
        "        curr_value *= 2\n",
        "        print(curr_value, end=\" \")\n",
        "\n",
        "if __name__ == '__main__':\n",
        "    main()"
      ],
      "metadata": {
        "colab": {
          "base_uri": "https://localhost:8080/"
        },
        "id": "tyl81Kat3fw7",
        "outputId": "46f71515-49d5-425b-aa9f-1aacdc18686c"
      },
      "execution_count": 18,
      "outputs": [
        {
          "output_type": "stream",
          "name": "stdout",
          "text": [
            "05_double_it\n",
            "Enter a number: 89\n",
            "178 "
          ]
        }
      ]
    }
  ],
  "metadata": {
    "colab": {
      "provenance": [],
      "authorship_tag": "ABX9TyN8WCww3DVhOAaevWMlRe1N",
      "include_colab_link": true
    },
    "kernelspec": {
      "display_name": "Python 3",
      "name": "python3"
    },
    "language_info": {
      "name": "python"
    }
  },
  "nbformat": 4,
  "nbformat_minor": 0
}