{
  "cells": [
    {
      "cell_type": "markdown",
      "metadata": {
        "id": "view-in-github",
        "colab_type": "text"
      },
      "source": [
        "<a href=\"https://colab.research.google.com/github/eraj-ns/Assigment-4/blob/main/03_if_statements.ipynb\" target=\"_parent\"><img src=\"https://colab.research.google.com/assets/colab-badge.svg\" alt=\"Open In Colab\"/></a>"
      ]
    },
    {
      "cell_type": "code",
      "execution_count": 1,
      "metadata": {
        "colab": {
          "base_uri": "https://localhost:8080/"
        },
        "id": "Sg9rsiJowajk",
        "outputId": "210f78fb-d3d7-4f1a-c372-c03be9e3bac7"
      },
      "outputs": [
        {
          "output_type": "stream",
          "name": "stdout",
          "text": [
            "01_print_events\n",
            "Here is 20 even numbers are:  0\n",
            "Here is 20 even numbers are:  2\n",
            "Here is 20 even numbers are:  4\n",
            "Here is 20 even numbers are:  6\n",
            "Here is 20 even numbers are:  8\n",
            "Here is 20 even numbers are:  10\n",
            "Here is 20 even numbers are:  12\n",
            "Here is 20 even numbers are:  14\n",
            "Here is 20 even numbers are:  16\n",
            "Here is 20 even numbers are:  18\n",
            "Here is 20 even numbers are:  20\n",
            "Here is 20 even numbers are:  22\n",
            "Here is 20 even numbers are:  24\n",
            "Here is 20 even numbers are:  26\n",
            "Here is 20 even numbers are:  28\n",
            "Here is 20 even numbers are:  30\n",
            "Here is 20 even numbers are:  32\n",
            "Here is 20 even numbers are:  34\n",
            "Here is 20 even numbers are:  36\n",
            "Here is 20 even numbers are:  38\n"
          ]
        }
      ],
      "source": [
        "print(\"01_print_events\")\n",
        "\n",
        "def main():\n",
        "    for i in range(20):\n",
        "        print(\"Here is 20 even numbers are: \", i * 2)\n",
        "\n",
        "if __name__ == '__main__':\n",
        "    main()"
      ]
    },
    {
      "cell_type": "code",
      "execution_count": null,
      "metadata": {
        "colab": {
          "base_uri": "https://localhost:8080/"
        },
        "id": "TFeZdtcixCvn",
        "outputId": "c4700491-1904-4cfd-893b-5bfcef73dfc6"
      },
      "outputs": [
        {
          "name": "stdout",
          "output_type": "stream",
          "text": [
            "02_international_voting_age\n",
            "How old are you? 24\n",
            "You can vote in Peturksbouipo where the voting age is 16.\n",
            "You cannot vote in Stanlau where the voting age is 25.\n",
            "You cannot vote in Mayengua where the voting age is 48.\n"
          ]
        }
      ],
      "source": [
        "print(\"02_international_voting_age\")\n",
        "\n",
        "def main():\n",
        "\n",
        "    age = int(input(\"How old are you? \"))\n",
        "\n",
        "    if age >= 16:\n",
        "        print(\"You can vote in Peturksbouipo where the voting age is 16.\")\n",
        "    else:\n",
        "        print(\"You cannot vote in Peturksbouipo where the voting age is 16.\")\n",
        "\n",
        "    if age >= 25:\n",
        "        print(\"You can vote in Stanlau where the voting age is 25.\")\n",
        "    else:\n",
        "        print(\"You cannot vote in Stanlau where the voting age is 25.\")\n",
        "\n",
        "    if age >= 48:\n",
        "        print(\"You can vote in Mayengua where the voting age is 48.\")\n",
        "    else:\n",
        "        print(\"You cannot vote in Mayengua where the voting age is 48.\")\n",
        "\n",
        "if __name__ == '__main__':\n",
        "    main()"
      ]
    },
    {
      "cell_type": "code",
      "execution_count": 2,
      "metadata": {
        "id": "qvilahAFznf8",
        "colab": {
          "base_uri": "https://localhost:8080/"
        },
        "outputId": "0c0d8fba-ca19-40eb-b6e4-13496623a8ce"
      },
      "outputs": [
        {
          "output_type": "stream",
          "name": "stdout",
          "text": [
            "03_leap_year\n",
            "Enter as year.450\n",
            "450 is not a leap year.\n"
          ]
        }
      ],
      "source": [
        "print(\"03_leap_year\")\n",
        "\n",
        "def leap_year():\n",
        "  year:int = int (input(\"Enter as year.\"))\n",
        "\n",
        "  if year % 4 == 0:\n",
        "    if year % 100 == 0:\n",
        "      if year % 400 == 0:\n",
        "        print(f'{year} is a leap year.')\n",
        "      else:\n",
        "        print(f'{year} is not a leap year.')\n",
        "    else:\n",
        "        print(f'{year} is not a leap year.')\n",
        "  else:\n",
        "        print(f'{year} is not a leap year.')\n",
        "\n",
        "if __name__ == \"__main__\":\n",
        "  leap_year()"
      ]
    },
    {
      "cell_type": "code",
      "execution_count": null,
      "metadata": {
        "colab": {
          "background_save": true,
          "base_uri": "https://localhost:8080/"
        },
        "id": "ftuFKnJiyGTs",
        "outputId": "723c04b0-eae4-4c17-e767-1390d4523f8e"
      },
      "outputs": [
        {
          "output_type": "stream",
          "name": "stdout",
          "text": [
            "04_tall_enough_to_ride\n",
            "How tall are you? 9\n",
            "You're not tall enough to ride, but maybe next year!\n",
            "\n",
            "How tall are you? 24\n",
            "You're not tall enough to ride, but maybe next year!\n",
            "\n",
            "How tall are you? 50\n",
            "You're tall enough to ride!\n",
            "\n"
          ]
        }
      ],
      "source": [
        "print(\"04_tall_enough_to_ride\")\n",
        "\n",
        "def main():\n",
        "    while True:\n",
        "\n",
        "        height = input(\"How tall are you? \")\n",
        "\n",
        "        if height == \"\":\n",
        "            print(\"Exiting the program. Have a great day!\")\n",
        "            break\n",
        "\n",
        "        height = int(height)\n",
        "\n",
        "        if height >= 50:\n",
        "            print(\"You're tall enough to ride!\\n\")\n",
        "        else:\n",
        "            print(\"You're not tall enough to ride, but maybe next year!\\n\")\n",
        "\n",
        "if __name__ == '__main__':\n",
        "    main()"
      ]
    },
    {
      "cell_type": "code",
      "execution_count": null,
      "metadata": {
        "colab": {
          "base_uri": "https://localhost:8080/"
        },
        "id": "X6GyQ58yyh50",
        "outputId": "d44d4c2d-4419-4602-c70a-8983afa830db"
      },
      "outputs": [
        {
          "name": "stdout",
          "output_type": "stream",
          "text": [
            "05_random_numbers\n",
            "12 68 49 7 27 50 61 60 46 83\n"
          ]
        }
      ],
      "source": [
        "print(\"05_random_numbers\")\n",
        "\n",
        "import random\n",
        "\n",
        "def main():\n",
        "\n",
        "    random_numbers = [random.randint(1, 100) for _ in range(10)]\n",
        "    print(*random_numbers)\n",
        "\n",
        "if __name__ == '__main__':\n",
        "    main()"
      ]
    }
  ],
  "metadata": {
    "colab": {
      "provenance": [],
      "authorship_tag": "ABX9TyP/eC0egHjGCl5htefANXZM",
      "include_colab_link": true
    },
    "kernelspec": {
      "display_name": "Python 3",
      "name": "python3"
    },
    "language_info": {
      "name": "python"
    }
  },
  "nbformat": 4,
  "nbformat_minor": 0
}