{
  "nbformat": 4,
  "nbformat_minor": 0,
  "metadata": {
    "colab": {
      "provenance": [],
      "authorship_tag": "ABX9TyOBch56aw2BXPoZglaV9+SV",
      "include_colab_link": true
    },
    "kernelspec": {
      "name": "python3",
      "display_name": "Python 3"
    },
    "language_info": {
      "name": "python"
    }
  },
  "cells": [
    {
      "cell_type": "markdown",
      "metadata": {
        "id": "view-in-github",
        "colab_type": "text"
      },
      "source": [
        "<a href=\"https://colab.research.google.com/github/eraj-ns/Assigment-4/blob/main/00_intro_python.ipynb\" target=\"_parent\"><img src=\"https://colab.research.google.com/assets/colab-badge.svg\" alt=\"Open In Colab\"/></a>"
      ]
    },
    {
      "cell_type": "code",
      "execution_count": null,
      "metadata": {
        "id": "QRn1y__r1yg2",
        "colab": {
          "base_uri": "https://localhost:8080/"
        },
        "outputId": "7e275b0b-83c9-467c-927a-359b9830b7c3"
      },
      "outputs": [
        {
          "output_type": "stream",
          "name": "stdout",
          "text": [
            "01_add_two_numbers\n",
            "This application for add two numbers\n",
            "Enter your first number7\n",
            "Enter your second number7\n",
            "The total sum of 7 and 7 is 14\n"
          ]
        }
      ],
      "source": [
        "print(\"01_add_two_numbers\")\n",
        "\n",
        "def add():\n",
        "  print(\"This application for add two numbers\")\n",
        "  first_number = int(input(\"Enter your first number. \"))\n",
        "  second_number = int(input(\"Enter your second number. \"))\n",
        "  total = int(first_number + second_number)\n",
        "  print(f'The total sum of {first_number} and {second_number} is {total}')\n",
        "\n",
        "if __name__ == \"__main__\":\n",
        "  add()"
      ]
    },
    {
      "cell_type": "code",
      "source": [
        "print(\"02_agreement_bot\")\n",
        "\n",
        "def bot():\n",
        "  animal = str(input(\"what their favorite animal is? \"))\n",
        "  print(f'My favourite animal is also {animal}!')\n",
        "\n",
        "if __name__ == \"__main__\":\n",
        "  bot()\n"
      ],
      "metadata": {
        "colab": {
          "base_uri": "https://localhost:8080/"
        },
        "id": "01izHZDXhzUN",
        "outputId": "cb0aa5e9-b640-452d-81ef-b542067519a4"
      },
      "execution_count": null,
      "outputs": [
        {
          "output_type": "stream",
          "name": "stdout",
          "text": [
            "02_agreement_bot\n",
            "what their favorite animal is?dog\n",
            "My favourite animal is also dog!\n"
          ]
        }
      ]
    },
    {
      "cell_type": "code",
      "source": [
        "print(\"03_fahrenheit_to_celsius\")\n",
        "\n",
        "def temp():\n",
        "  print(\"This code for converting fahrenheit to celsius\")\n",
        "  fahrenheit_degree = float(input(\"Enter your fahrenheit degree. \"))\n",
        "  celsius_degree = (fahrenheit_degree - 32) * 5.0/9.0\n",
        "  print(f'Temperature {fahrenheit_degree} F = {celsius_degree} C')\n",
        "\n",
        "if __name__ == \"__main__\":\n",
        "  temp()"
      ],
      "metadata": {
        "colab": {
          "base_uri": "https://localhost:8080/"
        },
        "id": "V0sytdy0n1hE",
        "outputId": "05ff491b-6b1c-4f33-b60c-906f760d2e9c"
      },
      "execution_count": null,
      "outputs": [
        {
          "output_type": "stream",
          "name": "stdout",
          "text": [
            "03_fahrenheit_to_celsius\n",
            "This code for converting fahrenheit to celsius\n",
            "Enter your fahrenheit degree41\n",
            "Temperature 41.0 = 5.0\n"
          ]
        }
      ]
    },
    {
      "cell_type": "code",
      "source": [
        "print(\"04_how_old_are_they\")\n",
        "\n",
        "def add_ages():\n",
        "  anthon:int = 21\n",
        "  beth:int = anthon + 6\n",
        "  chen:int = beth + 20\n",
        "  drew:int = chen + anthon\n",
        "  ethan:int = chen\n",
        "\n",
        "  print(\"Anthon is \" + str(anthon))\n",
        "  print(\"Beth is \" + str(beth))\n",
        "  print(\"Chen is \" + str(chen))\n",
        "  print(\"Drew is \" + str(drew))\n",
        "  print(\"Ethan is \" + str(ethan))\n",
        "\n",
        "\n",
        "if __name__ == \"__main__\":\n",
        "  add_ages()"
      ],
      "metadata": {
        "id": "L50TAFHQsVqB",
        "colab": {
          "base_uri": "https://localhost:8080/"
        },
        "outputId": "04049c28-630c-4b7e-b5f4-6ec60f99d916"
      },
      "execution_count": null,
      "outputs": [
        {
          "output_type": "stream",
          "name": "stdout",
          "text": [
            "04_how_old_are_they\n",
            "Anthon is 21\n",
            "Beth is 27\n",
            "Chen is 47\n",
            "Drew is 68\n",
            "Ethan is 47\n"
          ]
        }
      ]
    },
    {
      "cell_type": "code",
      "source": [
        "print(\"05_triangle_perimeter\")\n",
        "\n",
        "def triangle():\n",
        "  print(\"This code is about perimeter of triangle.\")\n",
        "  side1:float = float(input(\"Enter your first side no of triangle. \"))\n",
        "  side2:float = float(input(\"Enter your second side no of triangle. \"))\n",
        "  side3:float = float(input(\"Enter your third side no of triangle. \"))\n",
        "  total:float = float(side1 + side2 + side3)\n",
        "  print(f'The perimeter of the triangle is {total}')\n",
        "\n",
        "if __name__ == \"__main__\":\n",
        "   triangle()"
      ],
      "metadata": {
        "id": "pzGR3LEEx2AZ",
        "colab": {
          "base_uri": "https://localhost:8080/"
        },
        "outputId": "e08cc6e8-80ea-4439-d70e-6ce64a7953f1"
      },
      "execution_count": null,
      "outputs": [
        {
          "output_type": "stream",
          "name": "stdout",
          "text": [
            "05_triangle_perimeter\n",
            "This code is about perimeter of triangle.\n",
            "Enter your first side no of triangle. 6\n",
            "Enter your second side no of triangle. 10\n",
            "Enter your third side no of triangle. 3\n",
            "The perimeter of the triangle is 19.0\n"
          ]
        }
      ]
    },
    {
      "cell_type": "code",
      "source": [
        "print(\"06_square_number\")\n",
        "\n",
        "def square():\n",
        "  print(\"This code is about square of given number\")\n",
        "  num1:int = int(input(\"Enter any number and i will give u a square value. \"))\n",
        "  print(f'The square of {num1} is {num1 ** 2}')\n",
        "\n",
        "if __name__ == \"__main__\":\n",
        "  square()"
      ],
      "metadata": {
        "colab": {
          "base_uri": "https://localhost:8080/"
        },
        "id": "g72tzSZA5BHT",
        "outputId": "b7f3a86e-a5ff-4120-ac33-62746210f467"
      },
      "execution_count": null,
      "outputs": [
        {
          "output_type": "stream",
          "name": "stdout",
          "text": [
            "06_square_number\n",
            "This code is about square of given number\n",
            "Enter any number and i will give u a square value. 5\n",
            "The square of 5 is 25\n"
          ]
        }
      ]
    }
  ]
}