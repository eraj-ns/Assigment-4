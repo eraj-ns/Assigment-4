{
  "nbformat": 4,
  "nbformat_minor": 0,
  "metadata": {
    "colab": {
      "provenance": [],
      "authorship_tag": "ABX9TyOwEkECf/YTeEbFc8GOaaWZ",
      "include_colab_link": true
    },
    "kernelspec": {
      "name": "python3",
      "display_name": "Python 3"
    },
    "language_info": {
      "name": "python"
    }
  },
  "cells": [
    {
      "cell_type": "markdown",
      "metadata": {
        "id": "view-in-github",
        "colab_type": "text"
      },
      "source": [
        "<a href=\"https://colab.research.google.com/github/eraj-ns/Assigment-4/blob/main/02_lists.ipynb\" target=\"_parent\"><img src=\"https://colab.research.google.com/assets/colab-badge.svg\" alt=\"Open In Colab\"/></a>"
      ]
    },
    {
      "cell_type": "code",
      "execution_count": null,
      "metadata": {
        "id": "9C7d3GMDThww",
        "colab": {
          "base_uri": "https://localhost:8080/"
        },
        "outputId": "69dc3271-b6ff-43c2-a61a-0528e73df85e"
      },
      "outputs": [
        {
          "output_type": "stream",
          "name": "stdout",
          "text": [
            "01_add_many_number\n",
            "15\n"
          ]
        }
      ],
      "source": [
        "print(\"01_add_many_number\")\n",
        "\n",
        "def add_num(numbers)->int:\n",
        "  num:int = 0\n",
        "  for i in numbers:\n",
        "    num += i\n",
        "  return num\n",
        "\n",
        "def main():\n",
        "  numbers:list[int] = [1,2,3,4,5]\n",
        "  sum = add_num(numbers)\n",
        "  print(sum)\n",
        "\n",
        "if __name__ == \"__main__\":\n",
        "  main()"
      ]
    },
    {
      "cell_type": "code",
      "source": [
        "print(\"02_double_list\")\n",
        "\n",
        "def main():\n",
        "  numbers:list[int] = [1,2,3,4,5]\n",
        "  for i in range(len(numbers)):\n",
        "    index = numbers[i]\n",
        "    numbers[i] = index * 2\n",
        "  print(numbers)\n",
        "\n",
        "if __name__ == \"__main__\":\n",
        "  main()"
      ],
      "metadata": {
        "colab": {
          "base_uri": "https://localhost:8080/"
        },
        "id": "z_s5_mn4ekf3",
        "outputId": "898da832-23fa-461d-c8ba-831e30e644c2"
      },
      "execution_count": null,
      "outputs": [
        {
          "output_type": "stream",
          "name": "stdout",
          "text": [
            "02_double_list\n",
            "[2, 4, 6, 8, 10]\n"
          ]
        }
      ]
    },
    {
      "cell_type": "code",
      "source": [
        "print(\"04_flowing_with_data_structures\")\n",
        "\n",
        "def add_copies(list,data):\n",
        "  for i in range(3):\n",
        "    list.append(data)\n",
        "\n",
        "def main():\n",
        "  message = input(\"Enter a message to copy. \")\n",
        "  list = []\n",
        "  print(\"Before list:\", list)\n",
        "  add_copies(list,message)\n",
        "  print(\"After list:\", list)\n",
        "\n",
        "if __name__ == \"__main__\":\n",
        "  main()"
      ],
      "metadata": {
        "id": "r2PfTQVpmtw7",
        "colab": {
          "base_uri": "https://localhost:8080/"
        },
        "outputId": "c81fe9f6-85cf-46a8-e4ae-d45ec051ccc9"
      },
      "execution_count": null,
      "outputs": [
        {
          "output_type": "stream",
          "name": "stdout",
          "text": [
            "04_flowing_with_data_structures\n",
            "Enter a message to copy. Hi\n",
            "Before list: []\n",
            "After list: ['Hi', 'Hi', 'Hi']\n"
          ]
        }
      ]
    },
    {
      "cell_type": "code",
      "source": [
        "print(\"05_get_first_element\")\n",
        "\n",
        "def first_element(list):\n",
        "  print(list[0])\n",
        "\n",
        "def get_list():\n",
        "  list = []\n",
        "  elem:str = input(\"Enter an element to add to the list. \")\n",
        "  while elem != \"\":\n",
        "    list.append(elem)\n",
        "    elem = input(\"Enter an element to add to the list. \")\n",
        "  return list\n",
        "\n",
        "def main():\n",
        "   list = get_list()\n",
        "   first_element(list)\n",
        "\n",
        "if __name__ == \"__main__\":\n",
        "  main()"
      ],
      "metadata": {
        "id": "wgn6DM1mXR2M",
        "colab": {
          "base_uri": "https://localhost:8080/"
        },
        "outputId": "d11b9b5a-0482-4b38-a561-aa2fe778dcf1"
      },
      "execution_count": null,
      "outputs": [
        {
          "output_type": "stream",
          "name": "stdout",
          "text": [
            "05_get_first_element\n",
            "Enter an element to add to the list. k\n",
            "Enter an element to add to the list. h\n",
            "Enter an element to add to the list. y\n",
            "Enter an element to add to the list. d\n",
            "Enter an element to add to the list. j\n",
            "Enter an element to add to the list. \n",
            "k\n"
          ]
        }
      ]
    },
    {
      "cell_type": "code",
      "source": [
        "print(\"06_get_last_element\")\n",
        "\n",
        "def last_element(list):\n",
        "  print(list[-1])\n",
        "\n",
        "def get_list():\n",
        "  list = []\n",
        "  elem:str = input(\"Enter an element to add to the list. \")\n",
        "  while elem != \"\":\n",
        "    list.append(elem)\n",
        "    elem = input(\"Enter an element to add to the list. \")\n",
        "  return list\n",
        "\n",
        "\n",
        "def main():\n",
        "   list = get_list()\n",
        "   last_element(list)\n",
        "\n",
        "if __name__ == \"__main__\":\n",
        "  main()"
      ],
      "metadata": {
        "colab": {
          "base_uri": "https://localhost:8080/"
        },
        "id": "YYgei5iQdUc1",
        "outputId": "1705241b-74bd-4f4b-ce53-e52d5964b7eb"
      },
      "execution_count": null,
      "outputs": [
        {
          "output_type": "stream",
          "name": "stdout",
          "text": [
            "06_get_last_element\n",
            "Enter an element to add to the list. j\n",
            "Enter an element to add to the list. y\n",
            "Enter an element to add to the list. q\n",
            "Enter an element to add to the list. o\n",
            "Enter an element to add to the list. \n",
            "o\n"
          ]
        }
      ]
    },
    {
      "cell_type": "code",
      "source": [
        "print(\"07_get_list\")\n",
        "\n",
        "def main():\n",
        "    lst = []\n",
        "\n",
        "    while True:\n",
        "        value = input(\"Enter a value: \")\n",
        "\n",
        "        if value == \"\":\n",
        "            break\n",
        "\n",
        "        lst.append(value)\n",
        "\n",
        "    print(\"Here's the list:\", lst)\n",
        "\n",
        "if __name__ == '__main__':\n",
        "    main()"
      ],
      "metadata": {
        "colab": {
          "base_uri": "https://localhost:8080/"
        },
        "id": "OJgGIQzRWdKF",
        "outputId": "3d1a585b-5ffd-447e-df9e-84ac73415f2b"
      },
      "execution_count": null,
      "outputs": [
        {
          "output_type": "stream",
          "name": "stdout",
          "text": [
            "07_get_list\n",
            "Enter a value: Eraj\n",
            "Enter a value: Naz\n",
            "Enter a value: Aqsa\n",
            "Enter a value: Noor\n",
            "Enter a value: Ymna\n",
            "Enter a value: Faraz\n",
            "Enter a value: \n",
            "Here's the list: ['Eraj', 'Naz', 'Aqsa', 'Noor', 'Ymna', 'Faraz']\n"
          ]
        }
      ]
    },
    {
      "cell_type": "code",
      "source": [
        "print(\"08_get_shorten\")\n",
        "\n",
        "MAX_LENGTH = 3\n",
        "\n",
        "def shorten(lst):\n",
        "    while len(lst) > MAX_LENGTH:\n",
        "        removed_item = lst.pop()\n",
        "        print(\"Removed:\", removed_item)\n",
        "\n",
        "def main():\n",
        "    lst = []\n",
        "\n",
        "\n",
        "    n = int(input(\"Enter number of elements in the list: \"))\n",
        "    for _ in range(n):\n",
        "        value = input(\"Enter a value: \")\n",
        "        lst.append(value)\n",
        "\n",
        "    print(\"Original list:\", lst)\n",
        "    shorten(lst)\n",
        "    print(\"Shortened list:\", lst)\n",
        "\n",
        "\n",
        "if __name__ == '__main__':\n",
        "    main()"
      ],
      "metadata": {
        "colab": {
          "base_uri": "https://localhost:8080/"
        },
        "id": "Zq1C_jzSYpB-",
        "outputId": "60b853a5-86a8-4820-cea3-68a105a32a6d"
      },
      "execution_count": null,
      "outputs": [
        {
          "output_type": "stream",
          "name": "stdout",
          "text": [
            "08_get_shorten\n",
            "Enter number of elements in the list: 7\n",
            "Enter a value: 2\n",
            "Enter a value: 6\n",
            "Enter a value: 1\n",
            "Enter a value: 5\n",
            "Enter a value: 7\n",
            "Enter a value: 9\n",
            "Enter a value: \n",
            "Original list: ['2', '6', '1', '5', '7', '9', '']\n",
            "Removed: \n",
            "Removed: 9\n",
            "Removed: 7\n",
            "Removed: 5\n",
            "Shortened list: ['2', '6', '1']\n"
          ]
        }
      ]
    }
  ]
}