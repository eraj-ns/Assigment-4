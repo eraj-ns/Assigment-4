{
  "nbformat": 4,
  "nbformat_minor": 0,
  "metadata": {
    "colab": {
      "provenance": [],
      "authorship_tag": "ABX9TyODL1oDEgubo0V3r620yLQ2",
      "include_colab_link": true
    },
    "kernelspec": {
      "name": "python3",
      "display_name": "Python 3"
    },
    "language_info": {
      "name": "python"
    }
  },
  "cells": [
    {
      "cell_type": "markdown",
      "metadata": {
        "id": "view-in-github",
        "colab_type": "text"
      },
      "source": [
        "<a href=\"https://colab.research.google.com/github/eraj-ns/Assigment-4/blob/main/07_information_flow.ipynb\" target=\"_parent\"><img src=\"https://colab.research.google.com/assets/colab-badge.svg\" alt=\"Open In Colab\"/></a>"
      ]
    },
    {
      "cell_type": "code",
      "execution_count": null,
      "metadata": {
        "colab": {
          "base_uri": "https://localhost:8080/"
        },
        "id": "5iGHeaiUX2lb",
        "outputId": "1b155b32-12f5-4ba5-d8bb-4cc785fd4799"
      },
      "outputs": [
        {
          "output_type": "stream",
          "name": "stdout",
          "text": [
            "00_choosing_returns\n",
            "How old is this person?: 23\n",
            "True\n"
          ]
        }
      ],
      "source": [
        "print(\"00_choosing_returns\")\n",
        "\n",
        "ADULT_AGE = 18\n",
        "\n",
        "def is_adult(age):\n",
        "    \"\"\"Returns True if the age is 18 or older, otherwise returns False.\"\"\"\n",
        "    return age >= ADULT_AGE\n",
        "\n",
        "def main():\n",
        "    age = int(input(\"How old is this person?: \"))\n",
        "\n",
        "    print(is_adult(age))\n",
        "\n",
        "if __name__ == '__main__':\n",
        "    main()"
      ]
    },
    {
      "cell_type": "code",
      "source": [
        "print(\"01_greetings\")\n",
        "\n",
        "def greet(name):\n",
        "    \"\"\"Prints a greeting with the given name.\"\"\"\n",
        "    print(f\"Greetings {name}!\")\n",
        "\n",
        "def main():\n",
        "    name = input(\"What's your name? \")\n",
        "\n",
        "    greet(name)\n",
        "\n",
        "if __name__ == '__main__':\n",
        "    main()"
      ],
      "metadata": {
        "colab": {
          "base_uri": "https://localhost:8080/"
        },
        "id": "BX-HQvNHYZ1e",
        "outputId": "af12a71a-7752-4424-d1cf-05add7136774"
      },
      "execution_count": null,
      "outputs": [
        {
          "output_type": "stream",
          "name": "stdout",
          "text": [
            "01_greetings\n",
            "What's your name? noor\n",
            "Greetings noor!\n"
          ]
        }
      ]
    },
    {
      "cell_type": "code",
      "source": [
        "print(\"02_in_range\")\n",
        "\n",
        "def in_range(n, low, high):\n",
        "    \"\"\"Returns True if n is between low and high (inclusive).\"\"\"\n",
        "    return low <= n <= high\n",
        "\n",
        "def main():\n",
        "    n = int(input(\"Enter a number: \"))\n",
        "    low = int(input(\"Enter the lower limit: \"))\n",
        "    high = int(input(\"Enter the upper limit: \"))\n",
        "\n",
        "    result = in_range(n, low, high)\n",
        "    print(result)\n",
        "\n",
        "if __name__ == '__main__':\n",
        "    main()"
      ],
      "metadata": {
        "colab": {
          "base_uri": "https://localhost:8080/"
        },
        "id": "BR3suqHpYxo9",
        "outputId": "273f5fea-d5aa-4662-fc41-31c0812a1df4"
      },
      "execution_count": null,
      "outputs": [
        {
          "output_type": "stream",
          "name": "stdout",
          "text": [
            "02_in_range\n",
            "Enter a number: 28\n",
            "Enter the lower limit: 2\n",
            "Enter the upper limit: 89\n",
            "True\n"
          ]
        }
      ]
    },
    {
      "cell_type": "code",
      "source": [
        "print(\"03_in_stock\")\n",
        "\n",
        "def num_in_stock(fruit):\n",
        "    inventory = {\n",
        "        \"apple\": 500,\n",
        "        \"banana\": 300,\n",
        "        \"pear\": 1000,\n",
        "        \"orange\": 250,\n",
        "        \"mango\": 700\n",
        "    }\n",
        "    return inventory.get(fruit.lower(), 0)\n",
        "\n",
        "def main():\n",
        "    fruit = input(\"Enter a fruit: \").strip()\n",
        "\n",
        "    stock = num_in_stock(fruit)\n",
        "\n",
        "    if stock > 0:\n",
        "        print(\"This fruit is in stock! Here is how many:\")\n",
        "        print(stock)\n",
        "    else:\n",
        "        print(\"This fruit is not in stock.\")\n",
        "\n",
        "if __name__ == '__main__':\n",
        "    main()"
      ],
      "metadata": {
        "colab": {
          "base_uri": "https://localhost:8080/"
        },
        "id": "xgOheHeyZKOM",
        "outputId": "a3f8cecb-77c5-49b8-ebd9-a11fd74d3af5"
      },
      "execution_count": null,
      "outputs": [
        {
          "output_type": "stream",
          "name": "stdout",
          "text": [
            "03_in_stock\n",
            "Enter a fruit: apple\n",
            "This fruit is in stock! Here is how many:\n",
            "500\n"
          ]
        }
      ]
    },
    {
      "cell_type": "code",
      "source": [
        "print(\"04_multiple_returns\")\n",
        "\n",
        "def get_user_data():\n",
        "    first_name = input(\"What is your first name?: \").strip()\n",
        "    last_name = input(\"What is your last name?: \").strip()\n",
        "    email = input(\"What is your email address?: \").strip()\n",
        "\n",
        "    return first_name, last_name, email\n",
        "def main():\n",
        "\n",
        "    user_data = get_user_data()\n",
        "\n",
        "    print(\"Received the following user data:\", user_data)\n",
        "\n",
        "if __name__ == '__main__':\n",
        "    main()"
      ],
      "metadata": {
        "colab": {
          "base_uri": "https://localhost:8080/"
        },
        "id": "9mvbaZEWZoVF",
        "outputId": "0f448685-edad-4558-881c-b17352fd73a0"
      },
      "execution_count": null,
      "outputs": [
        {
          "output_type": "stream",
          "name": "stdout",
          "text": [
            "04_multiple_returns\n",
            "What is your first name?: hala\n",
            "What is your last name?: ayesha\n",
            "What is your email address?: hala.00.34@gmail.com\n",
            "Received the following user data: ('hala', 'ayesha', 'hala.00.34@gmail.com')\n"
          ]
        }
      ]
    },
    {
      "cell_type": "code",
      "source": [
        "print(\"05_subtract_07\")\n",
        "\n",
        "def subtract_seven(num):\n",
        "    return num - 7\n",
        "\n",
        "def main():\n",
        "    number = int(input(\"Enter a number: \"))\n",
        "    result = subtract_seven(number)\n",
        "    print(\"Result after subtracting 7:\", result)\n",
        "\n",
        "if __name__ == '__main__':\n",
        "    main()"
      ],
      "metadata": {
        "colab": {
          "base_uri": "https://localhost:8080/"
        },
        "id": "CVjfC_uuaUCT",
        "outputId": "dba5ad14-e25f-4be4-fbe2-33ca9179afaa"
      },
      "execution_count": null,
      "outputs": [
        {
          "output_type": "stream",
          "name": "stdout",
          "text": [
            "05_subtract_07\n",
            "Enter a number: 5\n",
            "Result after subtracting 7: -2\n"
          ]
        }
      ]
    }
  ]
}