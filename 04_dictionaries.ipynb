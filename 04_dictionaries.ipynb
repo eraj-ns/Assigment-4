{
  "cells": [
    {
      "cell_type": "markdown",
      "metadata": {
        "id": "view-in-github",
        "colab_type": "text"
      },
      "source": [
        "<a href=\"https://colab.research.google.com/github/eraj-ns/Assigment-4/blob/main/04_dictionaries.ipynb\" target=\"_parent\"><img src=\"https://colab.research.google.com/assets/colab-badge.svg\" alt=\"Open In Colab\"/></a>"
      ]
    },
    {
      "cell_type": "code",
      "execution_count": 1,
      "metadata": {
        "colab": {
          "base_uri": "https://localhost:8080/"
        },
        "id": "vKzLAuOjfK-C",
        "outputId": "f200dbc3-b323-46e2-fa01-cb7f18862602"
      },
      "outputs": [
        {
          "output_type": "stream",
          "name": "stdout",
          "text": [
            "00_count_nums\n",
            "\u001b[94mEnter a number (or press Enter to stop): \u001b[0m7\n",
            "\u001b[94mEnter a number (or press Enter to stop): \u001b[0m9\n",
            "\u001b[94mEnter a number (or press Enter to stop): \u001b[0m2\n",
            "\u001b[94mEnter a number (or press Enter to stop): \u001b[0m\n",
            "\n",
            "Number occurrences:\n",
            "7 appears 1 times.\n",
            "9 appears 1 times.\n",
            "2 appears 1 times.\n"
          ]
        }
      ],
      "source": [
        "print(\"00_count_nums\")\n",
        "\n",
        "def main():\n",
        "\n",
        "    num_counts = {}\n",
        "\n",
        "    while True:\n",
        "        user_input = input(\"\\033[94mEnter a number (or press Enter to stop): \\033[0m\")\n",
        "\n",
        "        if user_input == \"\":\n",
        "            break\n",
        "\n",
        "        number = int(user_input)\n",
        "\n",
        "        if number in num_counts:\n",
        "            num_counts[number] += 1\n",
        "        else:\n",
        "            num_counts[number] = 1\n",
        "\n",
        "    print(\"\\nNumber occurrences:\")\n",
        "    for num, count in num_counts.items():\n",
        "        print(f\"{num} appears {count} times.\")\n",
        "\n",
        "if __name__ == '__main__':\n",
        "    main()"
      ]
    },
    {
      "cell_type": "code",
      "execution_count": 3,
      "metadata": {
        "id": "8eHIO3lBhb2y",
        "colab": {
          "base_uri": "https://localhost:8080/"
        },
        "outputId": "942ed651-127e-40b7-bdba-320971d24fb4"
      },
      "outputs": [
        {
          "name": "stdout",
          "output_type": "stream",
          "text": [
            "01_phonebook\n",
            "Name: Eraj\n",
            "Number: 3609165892\n",
            "Name: Ayesha\n",
            "Number: 0007866119\n",
            "Name: Ali\n",
            "Number: 7788123987\n",
            "Name: \n",
            "Eraj -> 3609165892\n",
            "Ayesha -> 0007866119\n",
            "Ali -> 7788123987\n",
            "Enter name to lookup: \n"
          ]
        }
      ],
      "source": [
        "print(\"01_phonebook\")\n",
        "\n",
        "def read_phone_numbers():\n",
        "\n",
        "    phonebook = {}\n",
        "\n",
        "    while True:\n",
        "        name = input(\"Name: \")\n",
        "        if name == \"\":\n",
        "            break\n",
        "        number = input(\"Number: \")\n",
        "        phonebook[name] = number\n",
        "\n",
        "    return phonebook\n",
        "\n",
        "def print_phonebook(phonebook):\n",
        "\n",
        "    for name in phonebook:\n",
        "        print(str(name) + \" -> \" + str(phonebook[name]))\n",
        "\n",
        "\n",
        "def lookup_number(phonebook):\n",
        "\n",
        "    while True :\n",
        "        name = input(\"Enter name to lookup: \")\n",
        "        if name == \"\":\n",
        "            break\n",
        "        if name not in phonebook:\n",
        "            print(name + \" is not in the phonebook\")\n",
        "        else :\n",
        "            print(phonebook[name])\n",
        "\n",
        "def main():\n",
        "    phonebook = read_phone_numbers()\n",
        "    print_phonebook(phonebook)\n",
        "    lookup_number(phonebook)\n",
        "\n",
        "if __name__ == '__main__':\n",
        "    main()"
      ]
    },
    {
      "cell_type": "code",
      "execution_count": 4,
      "metadata": {
        "colab": {
          "base_uri": "https://localhost:8080/"
        },
        "id": "7lx9V9D1iFqJ",
        "outputId": "c335ffa7-cf1c-41d5-c6a3-368d6fb150dd"
      },
      "outputs": [
        {
          "output_type": "stream",
          "name": "stdout",
          "text": [
            "02_pop_up_shop\n",
            "How many (apple) do you want?: 7\n",
            "How many (durian) do you want?: 2\n",
            "How many (jackfruit) do you want?: 9\n",
            "How many (kiwi) do you want?: 7\n",
            "How many (rambutan) do you want?: 5\n",
            "How many (mango) do you want?: 0\n",
            "\n",
            "Your total is $277.00\n"
          ]
        }
      ],
      "source": [
        "print(\"02_pop_up_shop\")\n",
        "\n",
        "def main():\n",
        "\n",
        "    fruit_prices = {\n",
        "        \"apple\": 3.5,\n",
        "        \"durian\": 15.0,\n",
        "        \"jackfruit\": 20.0,\n",
        "        \"kiwi\": 2.5,\n",
        "        \"rambutan\": 5.0,\n",
        "        \"mango\": 7.0\n",
        "    }\n",
        "\n",
        "    total_cost = 0\n",
        "\n",
        "    for fruit, price in fruit_prices.items():\n",
        "        quantity = int(input(f\"How many ({fruit}) do you want?: \"))\n",
        "        total_cost += quantity * price\n",
        "\n",
        "    print(f\"\\nYour total is ${total_cost:.2f}\")\n",
        "\n",
        "if __name__ == '__main__':\n",
        "    main()"
      ]
    },
    {
      "cell_type": "code",
      "execution_count": 6,
      "metadata": {
        "id": "5llME1vQlOjE",
        "colab": {
          "base_uri": "https://localhost:8080/"
        },
        "outputId": "ec0a19cb-f22b-49a6-b994-98d09c39bf66"
      },
      "outputs": [
        {
          "output_type": "stream",
          "name": "stdout",
          "text": [
            "03_powerful_password\n",
            "Enter your email: eraj.80sh.com\n",
            "Enter your password: 905612ytwjk\n",
            "Login successful! ✅\n"
          ]
        }
      ],
      "source": [
        "print(\"03_powerful_password\")\n",
        "\n",
        "import hashlib\n",
        "\n",
        "def hash_password(password):\n",
        "    \"\"\"Returns the SHA-256 hash of the given password.\"\"\"\n",
        "    return hashlib.sha256(password.encode()).hexdigest()\n",
        "\n",
        "def login(email, password_to_check, stored_logins):\n",
        "    \"\"\"\n",
        "    Checks if the given email's stored password hash matches the hash of the password_to_check.\n",
        "    Returns True if the login is successful, else False.\n",
        "    \"\"\"\n",
        "    if email in stored_logins:\n",
        "        stored_hash = stored_logins[email]\n",
        "        return stored_hash == hash_password(password_to_check)\n",
        "    return False\n",
        "\n",
        "def main():\n",
        "\n",
        "    stored_logins = {\n",
        "        \"user@example.com\": hash_password(\"securepassword123\"),\n",
        "        \"eraj.80sh.com\": hash_password(\"905612ytwjk\"),\n",
        "    }\n",
        "\n",
        "\n",
        "    email = input(\"Enter your email: \")\n",
        "    password = input(\"Enter your password: \")\n",
        "\n",
        "    if login(email, password, stored_logins):\n",
        "        print(\"Login successful! ✅\")\n",
        "    else:\n",
        "        print(\"Login failed! ❌ Incorrect email or password.\")\n",
        "\n",
        "if __name__ == '__main__':\n",
        "    main()\n"
      ]
    }
  ],
  "metadata": {
    "colab": {
      "provenance": [],
      "authorship_tag": "ABX9TyPIk4BkMkWMqMci2OwvOmtc",
      "include_colab_link": true
    },
    "kernelspec": {
      "display_name": "Python 3",
      "name": "python3"
    },
    "language_info": {
      "name": "python"
    }
  },
  "nbformat": 4,
  "nbformat_minor": 0
}