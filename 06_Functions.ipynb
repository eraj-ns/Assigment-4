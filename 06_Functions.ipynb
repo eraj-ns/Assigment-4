{
  "nbformat": 4,
  "nbformat_minor": 0,
  "metadata": {
    "colab": {
      "provenance": [],
      "authorship_tag": "ABX9TyORHurAuXc4wxBQkXfeG45E",
      "include_colab_link": true
    },
    "kernelspec": {
      "name": "python3",
      "display_name": "Python 3"
    },
    "language_info": {
      "name": "python"
    }
  },
  "cells": [
    {
      "cell_type": "markdown",
      "metadata": {
        "id": "view-in-github",
        "colab_type": "text"
      },
      "source": [
        "<a href=\"https://colab.research.google.com/github/eraj-ns/Assigment-4/blob/main/06_Functions.ipynb\" target=\"_parent\"><img src=\"https://colab.research.google.com/assets/colab-badge.svg\" alt=\"Open In Colab\"/></a>"
      ]
    },
    {
      "cell_type": "code",
      "execution_count": null,
      "metadata": {
        "colab": {
          "base_uri": "https://localhost:8080/"
        },
        "id": "8VX2B9gRObLR",
        "outputId": "3b669e68-9f06-4f1d-b59a-c8fe44c41e32"
      },
      "outputs": [
        {
          "output_type": "stream",
          "name": "stdout",
          "text": [
            "00_average\n",
            "Enter the first number: 6\n",
            "Enter the second number: 8\n",
            "The average of 6.0 and 8.0 is: 7.0\n"
          ]
        }
      ],
      "source": [
        "print(\"00_average\")\n",
        "\n",
        "def find_average(num1, num2):\n",
        "    return (num1 + num2) / 2\n",
        "\n",
        "def main():\n",
        "\n",
        "    num1 = float(input(\"Enter the first number: \"))\n",
        "    num2 = float(input(\"Enter the second number: \"))\n",
        "\n",
        "    average = find_average(num1, num2)\n",
        "    print(f\"The average of {num1} and {num2} is: {average}\")\n",
        "\n",
        "if __name__ == '__main__':\n",
        "    main()"
      ]
    },
    {
      "cell_type": "code",
      "source": [
        "print(\"01_chaotic_counting\")\n",
        "\n",
        "import random\n",
        "\n",
        "DONE_LIKELIHOOD = 0.2\n",
        "\n",
        "def done():\n",
        "    \"\"\"Returns True with a probability of DONE_LIKELIHOOD\"\"\"\n",
        "    return random.random() < DONE_LIKELIHOOD\n",
        "\n",
        "def chaotic_counting():\n",
        "    \"\"\"Counts from 1 to 10, but stops early if done() returns True\"\"\"\n",
        "    for i in range(1, 11):\n",
        "        if done():\n",
        "            return\n",
        "        print(i, end=\" \")\n",
        "\n",
        "def main():\n",
        "    print(\"I'm going to count until 10 or until I feel like stopping, whichever comes first.\")\n",
        "    chaotic_counting()\n",
        "    print(\"\\nI'm done.\")\n",
        "\n",
        "if __name__ == '__main__':\n",
        "    main()"
      ],
      "metadata": {
        "colab": {
          "base_uri": "https://localhost:8080/"
        },
        "id": "vjFYIZVdOvE9",
        "outputId": "fabd1ccc-7f39-462b-d4a6-3438e6bb542c"
      },
      "execution_count": null,
      "outputs": [
        {
          "output_type": "stream",
          "name": "stdout",
          "text": [
            "01_chaotic_counting\n",
            "I'm going to count until 10 or until I feel like stopping, whichever comes first.\n",
            "1 2 3 4 5 6 \n",
            "I'm done.\n"
          ]
        }
      ]
    },
    {
      "cell_type": "code",
      "source": [
        "print(\"02_count_even\")\n",
        "\n",
        "def count_even():\n",
        "    lst = []\n",
        "\n",
        "    while True:\n",
        "        user_input = input(\"Enter an integer or press enter to stop: \")\n",
        "\n",
        "        if user_input == \"\":\n",
        "            break\n",
        "\n",
        "        try:\n",
        "            num = int(user_input)\n",
        "            lst.append(num)\n",
        "        except ValueError:\n",
        "            print(\"Invalid input. Please enter an integer.\")\n",
        "\n",
        "    even_count = sum(1 for num in lst if num % 2 == 0)\n",
        "\n",
        "    print(f\"Number of even numbers: {even_count}\")\n",
        "\n",
        "def main():\n",
        "    count_even()\n",
        "\n",
        "if __name__ == '__main__':\n",
        "    main()"
      ],
      "metadata": {
        "colab": {
          "base_uri": "https://localhost:8080/"
        },
        "id": "YL8Wli04Pqme",
        "outputId": "c6e58781-1f65-4c8d-e52c-40880eb6a6bd"
      },
      "execution_count": null,
      "outputs": [
        {
          "output_type": "stream",
          "name": "stdout",
          "text": [
            "02_count_even\n",
            "Enter an integer or press enter to stop: 7\n",
            "Enter an integer or press enter to stop: 4\n",
            "Enter an integer or press enter to stop: 1\n",
            "Enter an integer or press enter to stop: 8\n",
            "Enter an integer or press enter to stop: \n",
            "Number of even numbers: 2\n"
          ]
        }
      ]
    },
    {
      "cell_type": "code",
      "source": [
        "print(\"03_double\")\n",
        "\n",
        "def double(num):\n",
        "    return num * 2\n",
        "\n",
        "def main():\n",
        "    num = int(input(\"\\033[94mEnter a number: \\033[0m\"))\n",
        "    result = double(num)\n",
        "    print(f\"Double that is {result}\")\n",
        "\n",
        "if __name__ == '__main__':\n",
        "    main()"
      ],
      "metadata": {
        "colab": {
          "base_uri": "https://localhost:8080/"
        },
        "id": "Ib1eZISjQXMM",
        "outputId": "2652ddfc-f9eb-4ef7-9267-b5d42dbeb34e"
      },
      "execution_count": null,
      "outputs": [
        {
          "output_type": "stream",
          "name": "stdout",
          "text": [
            "03_double\n",
            "\u001b[94mEnter a number: \u001b[0m23\n",
            "Double that is 46\n"
          ]
        }
      ]
    },
    {
      "cell_type": "code",
      "source": [
        "print(\"04_get_name\")\n",
        "\n",
        "def get_name():\n",
        "    return \"Sophia\"\n",
        "\n",
        "def main():\n",
        "    name = get_name()\n",
        "    print(f\"Howdy {name} ! 🤠\")\n",
        "\n",
        "if __name__ == '__main__':\n",
        "    main()"
      ],
      "metadata": {
        "colab": {
          "base_uri": "https://localhost:8080/"
        },
        "id": "M5YLH2zGQm5a",
        "outputId": "a3132777-5f5d-43ea-f344-edf5c2874e9b"
      },
      "execution_count": null,
      "outputs": [
        {
          "output_type": "stream",
          "name": "stdout",
          "text": [
            "04_get_name\n",
            "Howdy Sophia ! 🤠\n"
          ]
        }
      ]
    },
    {
      "cell_type": "code",
      "source": [
        "print(\"05_is_odd\")\n",
        "\n",
        "def main():\n",
        "    for num in range(10, 20):\n",
        "        if num % 2 == 0:\n",
        "            print(f\"{num} even\")\n",
        "        else:\n",
        "            print(f\"{num} odd\")\n",
        "\n",
        "if __name__ == '__main__':\n",
        "    main()"
      ],
      "metadata": {
        "colab": {
          "base_uri": "https://localhost:8080/"
        },
        "id": "KmLXrRDjQ3Sr",
        "outputId": "4b45f2e4-8c16-4697-d3a3-8ebc1b13e169"
      },
      "execution_count": null,
      "outputs": [
        {
          "output_type": "stream",
          "name": "stdout",
          "text": [
            "05_is_odd\n",
            "10 even\n",
            "11 odd\n",
            "12 even\n",
            "13 odd\n",
            "14 even\n",
            "15 odd\n",
            "16 even\n",
            "17 odd\n",
            "18 even\n",
            "19 odd\n"
          ]
        }
      ]
    },
    {
      "cell_type": "code",
      "source": [
        "print(\"06_print_divisor\")\n",
        "\n",
        "def print_divisors(num):\n",
        "\n",
        "    for i in range(1, num + 1):\n",
        "        if num % i == 0:\n",
        "            print(i, end=' ')\n",
        "    print()\n",
        "\n",
        "def main():\n",
        "    num = int(input(\"Enter a number: \"))\n",
        "    print(f\"Here are the divisors of {num}\")\n",
        "    print_divisors(num)\n",
        "\n",
        "if __name__ == '__main__':\n",
        "    main()"
      ],
      "metadata": {
        "colab": {
          "base_uri": "https://localhost:8080/"
        },
        "id": "XhDPW9eCREND",
        "outputId": "db8d9420-a145-4667-ab61-245fca13963d"
      },
      "execution_count": null,
      "outputs": [
        {
          "output_type": "stream",
          "name": "stdout",
          "text": [
            "06_print_divisor\n",
            "Enter a number: 45\n",
            "Here are the divisors of 45\n",
            "1 3 5 9 15 45 \n"
          ]
        }
      ]
    },
    {
      "cell_type": "code",
      "source": [
        "print(\"07_Print_Multiple\")\n",
        "\n",
        "def print_multiple(message: str, repeats: int):\n",
        "    for i in range(repeats):\n",
        "        print(message)\n",
        "\n",
        "def main():\n",
        "    message = input(\"Please type a message: \")\n",
        "    repeats = int(input(\"Enter a number of times to repeat your message: \"))\n",
        "    print_multiple(message, repeats)\n",
        "\n",
        "if __name__ == \"__main__\":\n",
        "    main()"
      ],
      "metadata": {
        "colab": {
          "base_uri": "https://localhost:8080/"
        },
        "id": "4w8K63sCR9sT",
        "outputId": "054782f4-7466-411a-93c9-8ebde8f87496"
      },
      "execution_count": null,
      "outputs": [
        {
          "output_type": "stream",
          "name": "stdout",
          "text": [
            "07_Print_Multiple\n",
            "Please type a message: 4\n",
            "Enter a number of times to repeat your message: 4\n",
            "4\n",
            "4\n",
            "4\n",
            "4\n"
          ]
        }
      ]
    },
    {
      "cell_type": "code",
      "source": [
        "print(\"08_sentence_generator\")\n",
        "\n",
        "def make_sentence(word: str, part_of_speech: int):\n",
        "    if part_of_speech == 0:\n",
        "        print(f\"I am excited to add this {word} to my vast collection of them!\")\n",
        "    elif part_of_speech == 1:\n",
        "        print(f\"It's so nice outside today it makes me want to {word}!\")\n",
        "    elif part_of_speech == 2:\n",
        "        print(f\"Looking out my window, the sky is big and {word}!\")\n",
        "    else:\n",
        "        print(\"Invalid choice! Please enter 0 for noun, 1 for verb, or 2 for adjective.\")\n",
        "\n",
        "def main():\n",
        "    word = input(\"Please type a noun, verb, or adjective: \")\n",
        "    part_of_speech = str(input(\"Is this a noun, verb, or adjective? Type 0 for noun, 1 for verb, 2 for adjective: \"))\n",
        "    make_sentence(word, part_of_speech)\n",
        "\n",
        "if __name__ == \"__main__\":\n",
        "    main()"
      ],
      "metadata": {
        "colab": {
          "base_uri": "https://localhost:8080/"
        },
        "id": "I7ycnUhCUrfE",
        "outputId": "5740a0fe-ffc2-40a7-d0f3-fbff5e6db526"
      },
      "execution_count": null,
      "outputs": [
        {
          "output_type": "stream",
          "name": "stdout",
          "text": [
            "08_sentence_generator\n",
            "Please type a noun, verb, or adjective: cat\n",
            "Is this a noun, verb, or adjective? Type 0 for noun, 1 for verb, 2 for adjective: small\n",
            "Invalid choice! Please enter 0 for noun, 1 for verb, or 2 for adjective.\n"
          ]
        }
      ]
    },
    {
      "cell_type": "code",
      "source": [
        "print(\"09_print_one_digit\")\n",
        "\n",
        "def print_ones_digit(num):\n",
        "    print(\"The ones digit is\", num % 10)\n",
        "\n",
        "def main():\n",
        "    num = int(input(\"Enter a number: \"))\n",
        "    print_ones_digit(num)\n",
        "\n",
        "if __name__ == '__main__':\n",
        "    main()"
      ],
      "metadata": {
        "id": "1i4SI87WW79t",
        "outputId": "4b7f4e43-4f2e-4e5a-c854-36a876f114c5",
        "colab": {
          "base_uri": "https://localhost:8080/"
        }
      },
      "execution_count": null,
      "outputs": [
        {
          "output_type": "stream",
          "name": "stdout",
          "text": [
            "09_print_one_digit\n",
            "Enter a number: 75\n",
            "The ones digit is 5\n"
          ]
        }
      ]
    }
  ]
}